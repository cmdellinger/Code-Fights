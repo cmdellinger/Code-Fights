{
 "cells": [
  {
   "cell_type": "code",
   "execution_count": 1,
   "metadata": {},
   "outputs": [],
   "source": [
    "from math import inf"
   ]
  },
  {
   "cell_type": "code",
   "execution_count": 10,
   "metadata": {},
   "outputs": [],
   "source": [
    "from itertools import product\n",
    "def relax_nodemap(nodemap):\n",
    "    n = len(nodemap)\n",
    "    for k, i, j in product(range(n), repeat=3):\n",
    "        nodemap[i][j] = min(nodemap[i][j],\n",
    "                            nodemap[i][k]+ nodemap[k][j])"
   ]
  },
  {
   "cell_type": "code",
   "execution_count": 29,
   "metadata": {},
   "outputs": [],
   "source": [
    "import numpy as np\n",
    "from math import inf\n",
    "from itertools import product\n",
    "\n",
    "def computerNetwork(n, network):\n",
    "    nodemap = create_nodemap(n, network)\n",
    "    # relax edges based on Floyd-Warshall algorithm\n",
    "    for iteration in range(n):\n",
    "        for k, i, j in product(range(n), repeat=3):\n",
    "            nodemap[i][j] = min(nodemap[i][j],\n",
    "                                nodemap[i][k]+ nodemap[k][j])\n",
    "    return nodemap[0][n-1]"
   ]
  },
  {
   "cell_type": "code",
   "execution_count": 30,
   "metadata": {},
   "outputs": [],
   "source": [
    "network = [[1, 4, 200], \n",
    "           [1, 2, 5], \n",
    "           [1, 3, 10], \n",
    "           [2, 3, 4], \n",
    "           [2, 4, 150], \n",
    "           [3, 4, 100]]\n",
    "n = 4"
   ]
  },
  {
   "cell_type": "code",
   "execution_count": 31,
   "metadata": {},
   "outputs": [],
   "source": [
    "import numpy as np\n",
    "from math import inf\n",
    "def create_nodemap(n, network):\n",
    "    # create an n x n node map set to infinity\n",
    "    node_map = np.empty((n,n,))\n",
    "    node_map[:] = inf\n",
    "    # set network distances into node map\n",
    "    for node in network:\n",
    "        i, j = node[0]-1, node[1]-1\n",
    "        node_map[i, j] = node[2]\n",
    "        node_map[j, i] = node[2]\n",
    "    # set distance to self as 0\n",
    "    for node in range(n):\n",
    "        node_map[node, node] = 0\n",
    "    return node_map"
   ]
  },
  {
   "cell_type": "code",
   "execution_count": 23,
   "metadata": {},
   "outputs": [
    {
     "data": {
      "text/plain": [
       "10.0"
      ]
     },
     "execution_count": 23,
     "metadata": {},
     "output_type": "execute_result"
    }
   ],
   "source": [
    "test = create_nodemap(n, network)\n"
   ]
  },
  {
   "cell_type": "code",
   "execution_count": 34,
   "metadata": {},
   "outputs": [
    {
     "data": {
      "text/plain": [
       "7660.0"
      ]
     },
     "execution_count": 34,
     "metadata": {},
     "output_type": "execute_result"
    }
   ],
   "source": [
    "computerNetwork(n, network)"
   ]
  },
  {
   "cell_type": "code",
   "execution_count": 33,
   "metadata": {},
   "outputs": [],
   "source": [
    "n = 5\n",
    "network = [[4,5,9589], \n",
    "           [4,1,7217], \n",
    "           [4,3,8765], \n",
    "           [2,4,247], \n",
    "           [2,1,2430], \n",
    "           [3,1,10], \n",
    "           [3,5,7650]]"
   ]
  },
  {
   "cell_type": "code",
   "execution_count": null,
   "metadata": {},
   "outputs": [],
   "source": []
  }
 ],
 "metadata": {
  "kernelspec": {
   "display_name": "Python 3",
   "language": "python",
   "name": "python3"
  },
  "language_info": {
   "codemirror_mode": {
    "name": "ipython",
    "version": 3
   },
   "file_extension": ".py",
   "mimetype": "text/x-python",
   "name": "python",
   "nbconvert_exporter": "python",
   "pygments_lexer": "ipython3",
   "version": "3.6.5"
  }
 },
 "nbformat": 4,
 "nbformat_minor": 2
}
