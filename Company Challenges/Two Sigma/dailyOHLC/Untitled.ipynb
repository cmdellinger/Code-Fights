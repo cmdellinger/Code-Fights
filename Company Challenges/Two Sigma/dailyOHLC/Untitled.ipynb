{
 "cells": [
  {
   "cell_type": "markdown",
   "metadata": {},
   "source": [
    "When visualizing market data over a long period of time, it is often helpful to build an Open-high-low-close (OHLC) chart. However, to build an OHLC chart you first need to prepare some data. For each financial instrument consider each day when it was traded, and find the following prices the instrument had that day:\n",
    "\n",
    "open price: the price of the first trade of the day;\n",
    "high price: the highest trade of the day;\n",
    "low price: the lowest trade of the day;\n",
    "close price: the price of the last trade of the day.\n",
    "\n",
    "Given a stream of trade data ordered by time, write a program to compute the OHLC by day and instrument (see output section for the format details).\n",
    "If two trades happen to have equal timestamps, then their order is determined by the order of their timestamps in the timestamp array."
   ]
  },
  {
   "cell_type": "code",
   "execution_count": 1,
   "metadata": {},
   "outputs": [
    {
     "ename": "SyntaxError",
     "evalue": "invalid syntax (<ipython-input-1-465b0ed12e22>, line 1)",
     "output_type": "error",
     "traceback": [
      "\u001b[0;36m  File \u001b[0;32m\"<ipython-input-1-465b0ed12e22>\"\u001b[0;36m, line \u001b[0;32m1\u001b[0m\n\u001b[0;31m    dailyOHLC(timestamp, instrument, side, price, size) =\u001b[0m\n\u001b[0m                                                          ^\u001b[0m\n\u001b[0;31mSyntaxError\u001b[0m\u001b[0;31m:\u001b[0m invalid syntax\n"
     ]
    }
   ],
   "source": [
    "dailyOHLC(timestamp, instrument, side, price, size) = \n",
    "[[\"2015-12-20\", \"HPQ\", \"10.00\", \"35.50\", \"8.65\", \"8.65\"],\n",
    " [\"2016-01-01\", \"AAPL\", \"20.00\", \"20.00\", \"20.00\", \"20.00\"],\n",
    " [\"2016-01-01\", \"GOOG\", \"100.35\", \"100.35\", \"100.35\", \"100.35\"],\n",
    " [\"2016-01-01\", \"HPQ\", \"10.00\", \"10.00\", \"10.00\", \"10.00\"]]"
   ]
  },
  {
   "cell_type": "code",
   "execution_count": 2,
   "metadata": {},
   "outputs": [],
   "source": [
    "timestamp = [1450625399, 1450625400, 1450625500, \n",
    "             1450625550, 1451644200, 1451690100, 1451691000]\n",
    "instrument = [\"HPQ\", \"HPQ\", \"HPQ\", \"HPQ\", \"AAPL\", \"HPQ\", \"GOOG\"]\n",
    "side = [\"sell\", \"buy\", \"buy\", \"sell\", \"buy\", \"buy\", \"buy\"]\n",
    "price = [10, 20.3, 35.5, 8.65, 20, 10, 100.35]\n",
    "size = [10, 1, 2, 3, 5, 1, 10]"
   ]
  },
  {
   "cell_type": "code",
   "execution_count": 22,
   "metadata": {},
   "outputs": [],
   "source": [
    "import pandas as pd\n",
    "from datetime import datetime\n",
    "from operator import itemgetter\n",
    "def dailyOHLC(timestamp, instrument, side, price, size):\n",
    "    data_df = pd.DataFrame({\"timestamp\": timestamp,\n",
    "                            \"instrument\": instrument,\n",
    "                            \"side\": side,\n",
    "                            \"price\": price,\n",
    "                            \"size\": size})\n",
    "    # change timestamp to `datetime` object\n",
    "    data_df.timestamp = data_df.timestamp.map(datetime.utcfromtimestamp)\n",
    "    # create empty list for ohlc data\n",
    "    ohlc_data = []\n",
    "    # generate ohlc data\n",
    "    for symbol, cluster in data_df[['timestamp', 'instrument', 'price']].groupby('instrument'):\n",
    "        prices = cluster.set_index('timestamp').resample('D')['price'].agg([lambda x: symbol,'first','max','min','last'])\n",
    "        prices = prices.dropna()\n",
    "        # append each row to ohlc data list in specified format\n",
    "        for index, row in prices.iterrows():\n",
    "            ohlc_data.append([index.strftime('%Y-%m-%d')]+[str(column) for column in row])\n",
    "    # return ohlc data list sorted by date and instrument\n",
    "    return sorted(ohlc_data, key=itemgetter(0,1))"
   ]
  },
  {
   "cell_type": "code",
   "execution_count": 23,
   "metadata": {},
   "outputs": [
    {
     "data": {
      "text/plain": [
       "[['2015-12-20', 'HPQ', '10.0', '35.5', '8.65', '8.65'],\n",
       " ['2016-01-01', 'AAPL', '20.0', '20.0', '20.0', '20.0'],\n",
       " ['2016-01-01', 'GOOG', '100.35', '100.35', '100.35', '100.35'],\n",
       " ['2016-01-01', 'HPQ', '10.0', '10.0', '10.0', '10.0']]"
      ]
     },
     "execution_count": 23,
     "metadata": {},
     "output_type": "execute_result"
    }
   ],
   "source": [
    "dailyOHLC(timestamp, instrument, side, price, size)"
   ]
  },
  {
   "cell_type": "code",
   "execution_count": 17,
   "metadata": {},
   "outputs": [],
   "source": [
    "import pandas as pd\n",
    "from datetime import datetime\n",
    "from operator import itemgetter\n",
    "def dailyOHLC(timestamp, instrument, side, price, size):\n",
    "    data_df = pd.DataFrame({\"timestamp\": timestamp,\n",
    "                            \"instrument\": instrument,\n",
    "                            \"side\": side,\n",
    "                            \"price\": price,\n",
    "                            \"size\": size})\n",
    "    # change timestamp to `datetime` object\n",
    "    data_df.timestamp = data_df.timestamp.map(datetime.utcfromtimestamp)\n",
    "    # create empty list for ohlc data\n",
    "    ohlc_data = []\n",
    "    # generate ohlc data\n",
    "    for symbol, cluster in data_df[['timestamp', 'instrument', 'price']].groupby('instrument'):\n",
    "        prices = cluster.set_index('timestamp').resample('D').agg([lambda x: symbol,'first','max','min','last'])\n",
    "        prices = prices.dropna()\n",
    "        # append each row to ohlc data list in specified format\n",
    "        for index, row in prices.iterrows():\n",
    "            ohlc_data.append([index.strftime('%Y-%m-%d')]+[str(column) for column in row])\n",
    "    # return ohlc data list sorted by date and instrument\n",
    "    return sorted(ohlc_data, key=itemgetter(0,1))"
   ]
  },
  {
   "cell_type": "code",
   "execution_count": 27,
   "metadata": {},
   "outputs": [],
   "source": [
    "import pandas as pd\n",
    "from datetime import datetime\n",
    "from operator import itemgetter\n",
    "def dailyOHLC(timestamp, instrument, side, price, size):\n",
    "    data_df = pd.DataFrame({\"timestamp\": timestamp,\n",
    "                            \"instrument\": instrument,\n",
    "                            \"side\": side,\n",
    "                            \"price\": price,\n",
    "                            \"size\": size})\n",
    "    # change timestamp to `datetime` object\n",
    "    data_df.timestamp = data_df.timestamp.map(datetime.utcfromtimestamp)\n",
    "    # create empty list for ohlc data\n",
    "    ohlc_data = []\n",
    "    # generate ohlc data\n",
    "    for symbol, cluster in data_df[['timestamp', 'instrument', 'price']].groupby('instrument'):\n",
    "        prices = cluster.set_index('timestamp').resample('D').agg([lambda x: symbol,'first','max','min','last'])['price']\n",
    "        prices = prices.dropna()\n",
    "        # append each row to ohlc data list in specified format\n",
    "        for index, row in prices.iterrows():\n",
    "            ohlc_data.append([index.strftime('%Y-%m-%d')]+[str(column) for column in row])\n",
    "    # return ohlc data list sorted by date and instrument\n",
    "    return sorted(ohlc_data, key=itemgetter(0,1))"
   ]
  },
  {
   "cell_type": "code",
   "execution_count": 38,
   "metadata": {},
   "outputs": [
    {
     "data": {
      "text/plain": [
       "[['2015-12-20', 'HPQ', '10.0', '35.5', '8.65', '8.65'],\n",
       " ['2016-01-01', 'AAPL', '20.0', '20.0', '20.0', '20.0'],\n",
       " ['2016-01-01', 'GOOG', '100.35', '100.35', '100.35', '100.35'],\n",
       " ['2016-01-01', 'HPQ', '10.0', '10.0', '10.0', '10.0']]"
      ]
     },
     "execution_count": 38,
     "metadata": {},
     "output_type": "execute_result"
    }
   ],
   "source": [
    "dailyOHLC(timestamp, instrument, side, price, size)"
   ]
  },
  {
   "cell_type": "code",
   "execution_count": 26,
   "metadata": {},
   "outputs": [
    {
     "data": {
      "text/html": [
       "<div>\n",
       "<style scoped>\n",
       "    .dataframe tbody tr th:only-of-type {\n",
       "        vertical-align: middle;\n",
       "    }\n",
       "\n",
       "    .dataframe tbody tr th {\n",
       "        vertical-align: top;\n",
       "    }\n",
       "\n",
       "    .dataframe thead th {\n",
       "        text-align: right;\n",
       "    }\n",
       "</style>\n",
       "<table border=\"1\" class=\"dataframe\">\n",
       "  <thead>\n",
       "    <tr style=\"text-align: right;\">\n",
       "      <th></th>\n",
       "      <th>&lt;lambda&gt;</th>\n",
       "      <th>first</th>\n",
       "      <th>max</th>\n",
       "      <th>min</th>\n",
       "      <th>last</th>\n",
       "    </tr>\n",
       "    <tr>\n",
       "      <th>timestamp</th>\n",
       "      <th></th>\n",
       "      <th></th>\n",
       "      <th></th>\n",
       "      <th></th>\n",
       "      <th></th>\n",
       "    </tr>\n",
       "  </thead>\n",
       "  <tbody>\n",
       "    <tr>\n",
       "      <th>2016-01-01</th>\n",
       "      <td>AAPL</td>\n",
       "      <td>20.0</td>\n",
       "      <td>20.0</td>\n",
       "      <td>20.0</td>\n",
       "      <td>20.0</td>\n",
       "    </tr>\n",
       "  </tbody>\n",
       "</table>\n",
       "</div>"
      ],
      "text/plain": [
       "           <lambda>  first   max   min  last\n",
       "timestamp                                   \n",
       "2016-01-01     AAPL   20.0  20.0  20.0  20.0"
      ]
     },
     "execution_count": 26,
     "metadata": {},
     "output_type": "execute_result"
    }
   ],
   "source": [
    "test"
   ]
  },
  {
   "cell_type": "code",
   "execution_count": 37,
   "metadata": {},
   "outputs": [],
   "source": [
    "import pandas as pd\n",
    "from datetime import datetime\n",
    "from operator import itemgetter\n",
    "def dailyOHLC(timestamp, instrument, side, price, size):\n",
    "    data_df = pd.DataFrame({\"timestamp\": timestamp,\n",
    "                            \"instrument\": instrument,\n",
    "                            \"side\": side,\n",
    "                            \"price\": price,\n",
    "                            \"size\": size})\n",
    "    # change timestamp to `datetime` object\n",
    "    data_df.timestamp = data_df.timestamp.map(datetime.utcfromtimestamp)\n",
    "    # create empty list for ohlc data\n",
    "    ohlc_data = []\n",
    "    # generate ohlc data\n",
    "    for symbol, cluster in data_df[['timestamp', 'instrument', 'price']].groupby('instrument'):\n",
    "        prices = cluster.set_index('timestamp').resample('D').apply([lambda x: symbol,'first','max','min','last'])\n",
    "        prices = prices['price'].dropna()\n",
    "        # append each row to ohlc data list in specified format\n",
    "        for index, row in prices.iterrows():\n",
    "            ohlc_data.append([index.strftime('%Y-%m-%d')]+[str(column) for column in row])\n",
    "    # return ohlc data list sorted by date and instrument\n",
    "    return sorted(ohlc_data, key=itemgetter(0,1))"
   ]
  },
  {
   "cell_type": "markdown",
   "metadata": {},
   "source": [
    "pandas version available is 17.1"
   ]
  },
  {
   "cell_type": "code",
   "execution_count": 39,
   "metadata": {},
   "outputs": [],
   "source": [
    "import pandas as pd\n",
    "from datetime import datetime\n",
    "from operator import itemgetter\n",
    "def dailyOHLC(timestamp, instrument, side, price, size):\n",
    "    data_df = pd.DataFrame({\"timestamp\": timestamp,\n",
    "                            \"instrument\": instrument,\n",
    "                            \"side\": side,\n",
    "                            \"price\": price,\n",
    "                            \"size\": size})\n",
    "    # change timestamp to `datetime` object\n",
    "    data_df.timestamp = data_df.timestamp.map(datetime.utcfromtimestamp)\n",
    "    # create empty list for ohlc data\n",
    "    ohlc_data = []\n",
    "    # generate ohlc data\n",
    "    for symbol, cluster in data_df[['timestamp', 'instrument', 'price']].groupby('instrument'):\n",
    "        prices = cluster.set_index('timestamp')['price'].resample('D',\n",
    "                                                                  how=[lambda x: symbol,\n",
    "                                                                       'first',\n",
    "                                                                       'max',\n",
    "                                                                       'min',\n",
    "                                                                       'last'])\n",
    "        prices = prices.dropna()\n",
    "        # append each row to ohlc data list in specified format\n",
    "        for index, row in prices.iterrows():\n",
    "            line = [index.strftime('%Y-%m-%d')]\n",
    "            for column in row:\n",
    "                try: line.append('%.2f' % column)\n",
    "                except: line.append(column)\n",
    "            ohlc_data.append(line)\n",
    "    # return ohlc data list sorted by date and instrument\n",
    "    return sorted(ohlc_data, key=itemgetter(0,1))"
   ]
  },
  {
   "cell_type": "code",
   "execution_count": null,
   "metadata": {},
   "outputs": [],
   "source": []
  }
 ],
 "metadata": {
  "kernelspec": {
   "display_name": "Python 3",
   "language": "python",
   "name": "python3"
  },
  "language_info": {
   "codemirror_mode": {
    "name": "ipython",
    "version": 3
   },
   "file_extension": ".py",
   "mimetype": "text/x-python",
   "name": "python",
   "nbconvert_exporter": "python",
   "pygments_lexer": "ipython3",
   "version": "3.6.5"
  }
 },
 "nbformat": 4,
 "nbformat_minor": 2
}
