{
 "cells": [
  {
   "cell_type": "markdown",
   "metadata": {},
   "source": [
    "Two Sigma maintains a distributed computing cluster capable of handling many different types of jobs. Some jobs are quite small (for instance MapReduce style jobs), but others can be larger (certain types of distributed optimization).\n",
    "\n",
    "Let's assume that the jobs are processed one by one, and if a new job request comes in when one is already being processed it's added to the queue. You were asked to implement a scheduling algorithm that adds jobs to the regular queue and pushes them through in such a way that the average wait time for all jobs in the queue is minimized. A new job isn't pushed through unless it minimizes the average waiting time.\n",
    "\n",
    "Assume that your program starts working at 0 seconds. A request for the ith job came at requestTimei, and let's assume that it takes jobProcessi seconds to process it.\n",
    "\n",
    "Find the state of your algorithm's queue timeFromStart seconds after your program started to work, assuming that all actions that could've happened right at this moment have already happened.\n",
    "\n",
    "Example\n",
    "\n",
    "For `requestTime = [0, 5, 8, 11]`, `jobProcess = [9, 4, 2, 1]`, and `timeFromStart = 11`\n",
    "the output should be `jobScheduling(requestTime, jobProcess, timeFromStart) = [1]`.\n",
    "\n",
    "Here's the optimal algorithm with an average wait time of (1 + 7) / 2 = 4 seconds:\n",
    "\n",
    "0 seconds from launch: start processing request 0 (0-based);\n",
    "5 seconds: add request 1 to the queue;\n",
    "8 seconds: put request 2 at the front of the queue;\n",
    "9 seconds: finish processing request 0 and start processing request 2;\n",
    "11 seconds:\n",
    "put request 3 at the front of the queue;\n",
    "finish processing request 2;\n",
    "start processing request 3;\n",
    "12 seconds: finish processing request 3 and start processing request 1;\n",
    "16 seconds: finish processing request 1.\n",
    "Therefore, 11 seconds after the program there are only 2 not yet finished requests, 3 being processed, and 1 still in the queue. Thus, the answer is [1]."
   ]
  },
  {
   "cell_type": "code",
   "execution_count": 37,
   "metadata": {},
   "outputs": [],
   "source": [
    "requestTime = [0, 5, 8, 11]\n",
    "jobProcess = [9, 4, 2, 1]\n",
    "timeFromStart = 11"
   ]
  },
  {
   "cell_type": "code",
   "execution_count": 108,
   "metadata": {},
   "outputs": [],
   "source": [
    "import pandas as pd\n",
    "def jobScheduling(requestTime, jobProcess, timeFromStart):\n",
    "    # store process information in DataFrame\n",
    "    jobs_df = pd.DataFrame({'number': range(len(requestTime)),\n",
    "                            'requestTime': requestTime,\n",
    "                            'jobProcess': jobProcess})\n",
    "    # intialize tracking variables\n",
    "    process_que = []\n",
    "    current_process = 0\n",
    "    current_time = 0\n",
    "    \n",
    "    for time in range(timeFromStart+1):\n",
    "        # queue\n",
    "        for process in jobs_df[jobs_df.requestTime == time].index:\n",
    "            process_que.append(process)\n",
    "        # sort queue based on shortest remaining time first (SRTF)\n",
    "        process_que = list(jobs_df[jobs_df.number.isin(process_que)].sort_values(by=['jobProcess','number'], ascending=False).index)\n",
    "\n",
    "        # run process\n",
    "        # if there's a process, decrement process time\n",
    "        if current_time:\n",
    "            current_time -= 1\n",
    "            \n",
    "        # load process\n",
    "        # if current process is finished, load a new one\n",
    "        if not current_time:\n",
    "            try:\n",
    "                current_process = process_que.pop()\n",
    "                current_time = jobs_df.at[current_process, 'jobProcess']\n",
    "            except:\n",
    "                current_process = []\n",
    "    process_que.reverse()\n",
    "    return process_que"
   ]
  },
  {
   "cell_type": "code",
   "execution_count": 109,
   "metadata": {},
   "outputs": [
    {
     "data": {
      "text/plain": [
       "[1]"
      ]
     },
     "execution_count": 109,
     "metadata": {},
     "output_type": "execute_result"
    }
   ],
   "source": [
    "jobScheduling(requestTime, jobProcess, timeFromStart)"
   ]
  }
 ],
 "metadata": {
  "kernelspec": {
   "display_name": "Python 3",
   "language": "python",
   "name": "python3"
  },
  "language_info": {
   "codemirror_mode": {
    "name": "ipython",
    "version": 3
   },
   "file_extension": ".py",
   "mimetype": "text/x-python",
   "name": "python",
   "nbconvert_exporter": "python",
   "pygments_lexer": "ipython3",
   "version": "3.6.5"
  }
 },
 "nbformat": 4,
 "nbformat_minor": 2
}
